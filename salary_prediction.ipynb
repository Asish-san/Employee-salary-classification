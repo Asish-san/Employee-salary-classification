{
 "cells": [
  {
   "cell_type": "markdown",
   "id": "3bf26d74",
   "metadata": {},
   "source": [
    "# Employee Salary Prediction using salary.csv\n",
    "This notebook demonstrates data analysis, model training, and interactive prediction for employee salary classification."
   ]
  },
  {
   "cell_type": "code",
   "execution_count": 2,
   "id": "b33ef194",
   "metadata": {},
   "outputs": [],
   "source": [
    "# Import Required Libraries\n",
    "import pandas as pd\n",
    "import numpy as np\n",
    "import matplotlib.pyplot as plt\n",
    "import seaborn as sns\n",
    "from sklearn.preprocessing import LabelEncoder\n",
    "from sklearn.pipeline import Pipeline\n",
    "from sklearn.model_selection import train_test_split\n",
    "from sklearn.metrics import accuracy_score, classification_report\n",
    "from sklearn.linear_model import LogisticRegression\n",
    "from sklearn.ensemble import RandomForestClassifier, GradientBoostingClassifier\n",
    "from sklearn.neighbors import KNeighborsClassifier\n",
    "from sklearn.svm import SVC\n",
    "import joblib"
   ]
  },
  {
   "cell_type": "code",
   "execution_count": 4,
   "id": "b8158982",
   "metadata": {},
   "outputs": [],
   "source": [
    "# Load the Dataset\n",
    "data = pd.read_csv(r'C:\\Users\\asish\\Downloads\\salary.csv')"
   ]
  },
  {
   "cell_type": "markdown",
   "id": "1fc62d2a",
   "metadata": {},
   "source": [
    "## Data Preview"
   ]
  },
  {
   "cell_type": "code",
   "execution_count": 5,
   "id": "eb18a078",
   "metadata": {},
   "outputs": [
    {
     "data": {
      "text/html": [
       "<div>\n",
       "<style scoped>\n",
       "    .dataframe tbody tr th:only-of-type {\n",
       "        vertical-align: middle;\n",
       "    }\n",
       "\n",
       "    .dataframe tbody tr th {\n",
       "        vertical-align: top;\n",
       "    }\n",
       "\n",
       "    .dataframe thead th {\n",
       "        text-align: right;\n",
       "    }\n",
       "</style>\n",
       "<table border=\"1\" class=\"dataframe\">\n",
       "  <thead>\n",
       "    <tr style=\"text-align: right;\">\n",
       "      <th></th>\n",
       "      <th>Age</th>\n",
       "      <th>Gender</th>\n",
       "      <th>Education Level</th>\n",
       "      <th>Job Title</th>\n",
       "      <th>Years of Experience</th>\n",
       "      <th>Salary</th>\n",
       "    </tr>\n",
       "  </thead>\n",
       "  <tbody>\n",
       "    <tr>\n",
       "      <th>0</th>\n",
       "      <td>32.0</td>\n",
       "      <td>Male</td>\n",
       "      <td>Bachelor's</td>\n",
       "      <td>Software Engineer</td>\n",
       "      <td>5.0</td>\n",
       "      <td>90000.0</td>\n",
       "    </tr>\n",
       "    <tr>\n",
       "      <th>1</th>\n",
       "      <td>28.0</td>\n",
       "      <td>Female</td>\n",
       "      <td>Master's</td>\n",
       "      <td>Data Analyst</td>\n",
       "      <td>3.0</td>\n",
       "      <td>65000.0</td>\n",
       "    </tr>\n",
       "    <tr>\n",
       "      <th>2</th>\n",
       "      <td>45.0</td>\n",
       "      <td>Male</td>\n",
       "      <td>PhD</td>\n",
       "      <td>Senior Manager</td>\n",
       "      <td>15.0</td>\n",
       "      <td>150000.0</td>\n",
       "    </tr>\n",
       "    <tr>\n",
       "      <th>3</th>\n",
       "      <td>36.0</td>\n",
       "      <td>Female</td>\n",
       "      <td>Bachelor's</td>\n",
       "      <td>Sales Associate</td>\n",
       "      <td>7.0</td>\n",
       "      <td>60000.0</td>\n",
       "    </tr>\n",
       "    <tr>\n",
       "      <th>4</th>\n",
       "      <td>52.0</td>\n",
       "      <td>Male</td>\n",
       "      <td>Master's</td>\n",
       "      <td>Director</td>\n",
       "      <td>20.0</td>\n",
       "      <td>200000.0</td>\n",
       "    </tr>\n",
       "    <tr>\n",
       "      <th>5</th>\n",
       "      <td>29.0</td>\n",
       "      <td>Male</td>\n",
       "      <td>Bachelor's</td>\n",
       "      <td>Marketing Analyst</td>\n",
       "      <td>2.0</td>\n",
       "      <td>55000.0</td>\n",
       "    </tr>\n",
       "    <tr>\n",
       "      <th>6</th>\n",
       "      <td>42.0</td>\n",
       "      <td>Female</td>\n",
       "      <td>Master's</td>\n",
       "      <td>Product Manager</td>\n",
       "      <td>12.0</td>\n",
       "      <td>120000.0</td>\n",
       "    </tr>\n",
       "    <tr>\n",
       "      <th>7</th>\n",
       "      <td>31.0</td>\n",
       "      <td>Male</td>\n",
       "      <td>Bachelor's</td>\n",
       "      <td>Sales Manager</td>\n",
       "      <td>4.0</td>\n",
       "      <td>80000.0</td>\n",
       "    </tr>\n",
       "    <tr>\n",
       "      <th>8</th>\n",
       "      <td>26.0</td>\n",
       "      <td>Female</td>\n",
       "      <td>Bachelor's</td>\n",
       "      <td>Marketing Coordinator</td>\n",
       "      <td>1.0</td>\n",
       "      <td>45000.0</td>\n",
       "    </tr>\n",
       "    <tr>\n",
       "      <th>9</th>\n",
       "      <td>38.0</td>\n",
       "      <td>Male</td>\n",
       "      <td>PhD</td>\n",
       "      <td>Senior Scientist</td>\n",
       "      <td>10.0</td>\n",
       "      <td>110000.0</td>\n",
       "    </tr>\n",
       "  </tbody>\n",
       "</table>\n",
       "</div>"
      ],
      "text/plain": [
       "    Age  Gender Education Level              Job Title  Years of Experience  \\\n",
       "0  32.0    Male      Bachelor's      Software Engineer                  5.0   \n",
       "1  28.0  Female        Master's           Data Analyst                  3.0   \n",
       "2  45.0    Male             PhD         Senior Manager                 15.0   \n",
       "3  36.0  Female      Bachelor's        Sales Associate                  7.0   \n",
       "4  52.0    Male        Master's               Director                 20.0   \n",
       "5  29.0    Male      Bachelor's      Marketing Analyst                  2.0   \n",
       "6  42.0  Female        Master's        Product Manager                 12.0   \n",
       "7  31.0    Male      Bachelor's          Sales Manager                  4.0   \n",
       "8  26.0  Female      Bachelor's  Marketing Coordinator                  1.0   \n",
       "9  38.0    Male             PhD       Senior Scientist                 10.0   \n",
       "\n",
       "     Salary  \n",
       "0   90000.0  \n",
       "1   65000.0  \n",
       "2  150000.0  \n",
       "3   60000.0  \n",
       "4  200000.0  \n",
       "5   55000.0  \n",
       "6  120000.0  \n",
       "7   80000.0  \n",
       "8   45000.0  \n",
       "9  110000.0  "
      ]
     },
     "execution_count": 5,
     "metadata": {},
     "output_type": "execute_result"
    }
   ],
   "source": [
    "data.head(10)"
   ]
  },
  {
   "cell_type": "code",
   "execution_count": 38,
   "id": "261b3df5",
   "metadata": {},
   "outputs": [
    {
     "name": "stdout",
     "output_type": "stream",
     "text": [
      "<class 'pandas.core.frame.DataFrame'>\n",
      "RangeIndex: 375 entries, 0 to 374\n",
      "Data columns (total 6 columns):\n",
      " #   Column               Non-Null Count  Dtype  \n",
      "---  ------               --------------  -----  \n",
      " 0   Age                  373 non-null    float64\n",
      " 1   Gender               373 non-null    object \n",
      " 2   Education Level      373 non-null    object \n",
      " 3   Job Title            373 non-null    object \n",
      " 4   Years of Experience  373 non-null    float64\n",
      " 5   Salary               373 non-null    float64\n",
      "dtypes: float64(3), object(3)\n",
      "memory usage: 17.7+ KB\n"
     ]
    }
   ],
   "source": [
    "# Data Summary\n",
    "data.info()"
   ]
  },
  {
   "cell_type": "code",
   "execution_count": 39,
   "id": "64bcdc91",
   "metadata": {},
   "outputs": [
    {
     "name": "stdout",
     "output_type": "stream",
     "text": [
      "Shape: (375, 6)\n"
     ]
    },
    {
     "data": {
      "text/html": [
       "<div>\n",
       "<style scoped>\n",
       "    .dataframe tbody tr th:only-of-type {\n",
       "        vertical-align: middle;\n",
       "    }\n",
       "\n",
       "    .dataframe tbody tr th {\n",
       "        vertical-align: top;\n",
       "    }\n",
       "\n",
       "    .dataframe thead th {\n",
       "        text-align: right;\n",
       "    }\n",
       "</style>\n",
       "<table border=\"1\" class=\"dataframe\">\n",
       "  <thead>\n",
       "    <tr style=\"text-align: right;\">\n",
       "      <th></th>\n",
       "      <th>Age</th>\n",
       "      <th>Gender</th>\n",
       "      <th>Education Level</th>\n",
       "      <th>Job Title</th>\n",
       "      <th>Years of Experience</th>\n",
       "      <th>Salary</th>\n",
       "    </tr>\n",
       "  </thead>\n",
       "  <tbody>\n",
       "    <tr>\n",
       "      <th>count</th>\n",
       "      <td>373.000000</td>\n",
       "      <td>373</td>\n",
       "      <td>373</td>\n",
       "      <td>373</td>\n",
       "      <td>373.000000</td>\n",
       "      <td>373.000000</td>\n",
       "    </tr>\n",
       "    <tr>\n",
       "      <th>unique</th>\n",
       "      <td>NaN</td>\n",
       "      <td>2</td>\n",
       "      <td>3</td>\n",
       "      <td>174</td>\n",
       "      <td>NaN</td>\n",
       "      <td>NaN</td>\n",
       "    </tr>\n",
       "    <tr>\n",
       "      <th>top</th>\n",
       "      <td>NaN</td>\n",
       "      <td>Male</td>\n",
       "      <td>Bachelor's</td>\n",
       "      <td>Director of Marketing</td>\n",
       "      <td>NaN</td>\n",
       "      <td>NaN</td>\n",
       "    </tr>\n",
       "    <tr>\n",
       "      <th>freq</th>\n",
       "      <td>NaN</td>\n",
       "      <td>194</td>\n",
       "      <td>224</td>\n",
       "      <td>12</td>\n",
       "      <td>NaN</td>\n",
       "      <td>NaN</td>\n",
       "    </tr>\n",
       "    <tr>\n",
       "      <th>mean</th>\n",
       "      <td>37.431635</td>\n",
       "      <td>NaN</td>\n",
       "      <td>NaN</td>\n",
       "      <td>NaN</td>\n",
       "      <td>10.030831</td>\n",
       "      <td>100577.345845</td>\n",
       "    </tr>\n",
       "    <tr>\n",
       "      <th>std</th>\n",
       "      <td>7.069073</td>\n",
       "      <td>NaN</td>\n",
       "      <td>NaN</td>\n",
       "      <td>NaN</td>\n",
       "      <td>6.557007</td>\n",
       "      <td>48240.013482</td>\n",
       "    </tr>\n",
       "    <tr>\n",
       "      <th>min</th>\n",
       "      <td>23.000000</td>\n",
       "      <td>NaN</td>\n",
       "      <td>NaN</td>\n",
       "      <td>NaN</td>\n",
       "      <td>0.000000</td>\n",
       "      <td>350.000000</td>\n",
       "    </tr>\n",
       "    <tr>\n",
       "      <th>25%</th>\n",
       "      <td>31.000000</td>\n",
       "      <td>NaN</td>\n",
       "      <td>NaN</td>\n",
       "      <td>NaN</td>\n",
       "      <td>4.000000</td>\n",
       "      <td>55000.000000</td>\n",
       "    </tr>\n",
       "    <tr>\n",
       "      <th>50%</th>\n",
       "      <td>36.000000</td>\n",
       "      <td>NaN</td>\n",
       "      <td>NaN</td>\n",
       "      <td>NaN</td>\n",
       "      <td>9.000000</td>\n",
       "      <td>95000.000000</td>\n",
       "    </tr>\n",
       "    <tr>\n",
       "      <th>75%</th>\n",
       "      <td>44.000000</td>\n",
       "      <td>NaN</td>\n",
       "      <td>NaN</td>\n",
       "      <td>NaN</td>\n",
       "      <td>15.000000</td>\n",
       "      <td>140000.000000</td>\n",
       "    </tr>\n",
       "    <tr>\n",
       "      <th>max</th>\n",
       "      <td>53.000000</td>\n",
       "      <td>NaN</td>\n",
       "      <td>NaN</td>\n",
       "      <td>NaN</td>\n",
       "      <td>25.000000</td>\n",
       "      <td>250000.000000</td>\n",
       "    </tr>\n",
       "  </tbody>\n",
       "</table>\n",
       "</div>"
      ],
      "text/plain": [
       "               Age Gender Education Level              Job Title  \\\n",
       "count   373.000000    373             373                    373   \n",
       "unique         NaN      2               3                    174   \n",
       "top            NaN   Male      Bachelor's  Director of Marketing   \n",
       "freq           NaN    194             224                     12   \n",
       "mean     37.431635    NaN             NaN                    NaN   \n",
       "std       7.069073    NaN             NaN                    NaN   \n",
       "min      23.000000    NaN             NaN                    NaN   \n",
       "25%      31.000000    NaN             NaN                    NaN   \n",
       "50%      36.000000    NaN             NaN                    NaN   \n",
       "75%      44.000000    NaN             NaN                    NaN   \n",
       "max      53.000000    NaN             NaN                    NaN   \n",
       "\n",
       "        Years of Experience         Salary  \n",
       "count            373.000000     373.000000  \n",
       "unique                  NaN            NaN  \n",
       "top                     NaN            NaN  \n",
       "freq                    NaN            NaN  \n",
       "mean              10.030831  100577.345845  \n",
       "std                6.557007   48240.013482  \n",
       "min                0.000000     350.000000  \n",
       "25%                4.000000   55000.000000  \n",
       "50%                9.000000   95000.000000  \n",
       "75%               15.000000  140000.000000  \n",
       "max               25.000000  250000.000000  "
      ]
     },
     "execution_count": 39,
     "metadata": {},
     "output_type": "execute_result"
    }
   ],
   "source": [
    "# Dataset Shape and Statistics\n",
    "print('Shape:', data.shape)\n",
    "data.describe(include='all')"
   ]
  },
  {
   "cell_type": "code",
   "execution_count": 40,
   "id": "9848dfb1",
   "metadata": {},
   "outputs": [
    {
     "data": {
      "text/plain": [
       "Age                    2\n",
       "Gender                 2\n",
       "Education Level        2\n",
       "Job Title              2\n",
       "Years of Experience    2\n",
       "Salary                 2\n",
       "dtype: int64"
      ]
     },
     "execution_count": 40,
     "metadata": {},
     "output_type": "execute_result"
    }
   ],
   "source": [
    "# Null Values\n",
    "data.isnull().sum()"
   ]
  },
  {
   "cell_type": "markdown",
   "id": "9f45f366",
   "metadata": {},
   "source": [
    "## Available Columns Analysis"
   ]
  },
  {
   "cell_type": "code",
   "execution_count": 41,
   "id": "44620e57",
   "metadata": {},
   "outputs": [
    {
     "name": "stdout",
     "output_type": "stream",
     "text": [
      "Gender: Gender\n",
      "Male      194\n",
      "Female    179\n",
      "Name: count, dtype: int64\n",
      "Education Level: Education Level\n",
      "Bachelor's    224\n",
      "Master's       98\n",
      "PhD            51\n",
      "Name: count, dtype: int64\n",
      "Job Title: Job Title\n",
      "Director of Marketing                    12\n",
      "Director of Operations                   11\n",
      "Senior Business Analyst                  10\n",
      "Senior Marketing Manager                  9\n",
      "Senior Marketing Analyst                  9\n",
      "Junior Business Analyst                   8\n",
      "Senior Project Manager                    7\n",
      "Senior Data Scientist                     7\n",
      "Junior Business Development Associate     7\n",
      "Junior Financial Analyst                  7\n",
      "Name: count, dtype: int64\n",
      "Age: count    373.000000\n",
      "mean      37.431635\n",
      "std        7.069073\n",
      "min       23.000000\n",
      "25%       31.000000\n",
      "50%       36.000000\n",
      "75%       44.000000\n",
      "max       53.000000\n",
      "Name: Age, dtype: float64\n",
      "Years of Experience: count    373.000000\n",
      "mean      10.030831\n",
      "std        6.557007\n",
      "min        0.000000\n",
      "25%        4.000000\n",
      "50%        9.000000\n",
      "75%       15.000000\n",
      "max       25.000000\n",
      "Name: Years of Experience, dtype: float64\n",
      "Salary: count       373.000000\n",
      "mean     100577.345845\n",
      "std       48240.013482\n",
      "min         350.000000\n",
      "25%       55000.000000\n",
      "50%       95000.000000\n",
      "75%      140000.000000\n",
      "max      250000.000000\n",
      "Name: Salary, dtype: float64\n"
     ]
    }
   ],
   "source": [
    "# Value Counts for Categorical Columns\n",
    "print('Gender:', data['Gender'].value_counts())\n",
    "print('Education Level:', data['Education Level'].value_counts())\n",
    "print('Job Title:', data['Job Title'].value_counts().head(10))\n",
    "# Summary for Numerical Columns\n",
    "print('Age:', data['Age'].describe())\n",
    "print('Years of Experience:', data['Years of Experience'].describe())\n",
    "print('Salary:', data['Salary'].describe())"
   ]
  },
  {
   "cell_type": "code",
   "execution_count": 42,
   "id": "74f3f64e",
   "metadata": {},
   "outputs": [
    {
     "data": {
      "image/png": "[encoded data removed]",
      "text/plain": [
       "<Figure size 1500x400 with 3 Axes>"
      ]
     },
     "metadata": {},
     "output_type": "display_data"
    }
   ],
   "source": [
    "# Outlier Detection for Numerical Columns\n",
    "import matplotlib.pyplot as plt\n",
    "import seaborn as sns\n",
    "plt.figure(figsize=(15,4))\n",
    "plt.subplot(1,3,1)\n",
    "sns.boxplot(x=data['Age'])\n",
    "plt.title('Age Outliers')\n",
    "plt.subplot(1,3,2)\n",
    "sns.boxplot(x=data['Years of Experience'])\n",
    "plt.title('Experience Outliers')\n",
    "plt.subplot(1,3,3)\n",
    "sns.boxplot(x=data['Salary'])\n",
    "plt.title('Salary Outliers')\n",
    "plt.tight_layout()\n",
    "plt.show()"
   ]
  },
  {
   "cell_type": "markdown",
   "id": "7b06663c",
   "metadata": {},
   "source": [
    "## Outlier Removal"
   ]
  },
  {
   "cell_type": "code",
   "execution_count": 43,
   "id": "47077580",
   "metadata": {},
   "outputs": [
    {
     "name": "stdout",
     "output_type": "stream",
     "text": [
      "Shape after outlier removal: (372, 6)\n"
     ]
    }
   ],
   "source": [
    "# Remove Outliers\n",
    "data = data[(data['Age'] >= 18) & (data['Age'] <= 65)]\n",
    "data = data[(data['Years of Experience'] >= 0) & (data['Years of Experience'] <= 40)]\n",
    "data = data[(data['Salary'] >= 30000) & (data['Salary'] <= 250000)]\n",
    "print('Shape after outlier removal:', data.shape)"
   ]
  },
  {
   "cell_type": "markdown",
   "id": "03a2ccc7",
   "metadata": {},
   "source": [
    "## Feature Engineering"
   ]
  },
  {
   "cell_type": "code",
   "execution_count": null,
   "id": "f844baa8",
   "metadata": {},
   "outputs": [
    {
     "name": "stdout",
     "output_type": "stream",
     "text": [
      "Encoded Features Preview:\n",
      "    Age  Gender  Education Level  Job Title  Years of Experience\n",
      "0  32.0       1                0        159                  5.0\n",
      "1  28.0       0                1         17                  3.0\n",
      "2  45.0       1                2        130                 15.0\n",
      "3  36.0       0                0        101                  7.0\n",
      "4  52.0       1                1         22                 20.0\n",
      "\n",
      "Target Shape: (372,)\n"
     ]
    }
   ],
   "source": [
    "# Encode Categorical Variables\n",
    "from sklearn.preprocessing import LabelEncoder\n",
    "data['Gender'] = LabelEncoder().fit_transform(data['Gender'])\n",
    "data['Education Level'] = LabelEncoder().fit_transform(data['Education Level'])\n",
    "data['Job Title'] = LabelEncoder().fit_transform(data['Job Title'])\n",
    "# Feature and Target Split\n",
    "X = data.drop(columns=['Salary'])\n",
    "y = data['Salary']"
   ]
  },
  {
   "cell_type": "code",
   "execution_count": 49,
   "id": "18820122",
   "metadata": {},
   "outputs": [
    {
     "name": "stdout",
     "output_type": "stream",
     "text": [
      "LinearRegression - MSE: 218988862.08, R2: 0.9140\n",
      "RandomForest - MSE: 136859213.23, R2: 0.9462\n",
      "GradientBoosting - MSE: 178576757.10, R2: 0.9299\n"
     ]
    }
   ],
   "source": [
    "# Model Training and Comparison\n",
    "from sklearn.model_selection import train_test_split\n",
    "from sklearn.linear_model import LinearRegression\n",
    "from sklearn.ensemble import RandomForestRegressor, GradientBoostingRegressor\n",
    "from sklearn.metrics import mean_squared_error, r2_score\n",
    "X_train, X_test, y_train, y_test = train_test_split(X, y, test_size=0.2, random_state=42)\n",
    "models = {\n",
    "    'LinearRegression': LinearRegression(),\n",
    "    'RandomForest': RandomForestRegressor(),\n",
    "    'GradientBoosting': GradientBoostingRegressor()\n",
    "}\n",
    "results = {}\n",
    "for name, model in models.items():\n",
    "    model.fit(X_train, y_train)\n",
    "    y_pred = model.predict(X_test)\n",
    "    mse = mean_squared_error(y_test, y_pred)\n",
    "    r2 = r2_score(y_test, y_pred)\n",
    "    results[name] = {'MSE': mse, 'R2': r2}\n",
    "    print(f'{name} - MSE: {mse:.2f}, R2: {r2:.4f}')"
   ]
  },
  {
   "cell_type": "code",
   "execution_count": 50,
   "id": "1e2f2dad",
   "metadata": {},
   "outputs": [
    {
     "data": {
      "text/html": [
       "<div>\n",
       "<style scoped>\n",
       "    .dataframe tbody tr th:only-of-type {\n",
       "        vertical-align: middle;\n",
       "    }\n",
       "\n",
       "    .dataframe tbody tr th {\n",
       "        vertical-align: top;\n",
       "    }\n",
       "\n",
       "    .dataframe thead th {\n",
       "        text-align: right;\n",
       "    }\n",
       "</style>\n",
       "<table border=\"1\" class=\"dataframe\">\n",
       "  <thead>\n",
       "    <tr style=\"text-align: right;\">\n",
       "      <th></th>\n",
       "      <th>Model</th>\n",
       "      <th>MSE</th>\n",
       "      <th>R2</th>\n",
       "    </tr>\n",
       "  </thead>\n",
       "  <tbody>\n",
       "    <tr>\n",
       "      <th>1</th>\n",
       "      <td>RandomForest</td>\n",
       "      <td>1.368592e+08</td>\n",
       "      <td>0.946246</td>\n",
       "    </tr>\n",
       "    <tr>\n",
       "      <th>2</th>\n",
       "      <td>GradientBoosting</td>\n",
       "      <td>1.785768e+08</td>\n",
       "      <td>0.929861</td>\n",
       "    </tr>\n",
       "    <tr>\n",
       "      <th>0</th>\n",
       "      <td>LinearRegression</td>\n",
       "      <td>2.189889e+08</td>\n",
       "      <td>0.913988</td>\n",
       "    </tr>\n",
       "  </tbody>\n",
       "</table>\n",
       "</div>"
      ],
      "text/plain": [
       "              Model           MSE        R2\n",
       "1      RandomForest  1.368592e+08  0.946246\n",
       "2  GradientBoosting  1.785768e+08  0.929861\n",
       "0  LinearRegression  2.189889e+08  0.913988"
      ]
     },
     "execution_count": 50,
     "metadata": {},
     "output_type": "execute_result"
    }
   ],
   "source": [
    "# Model Comparison Table\n",
    "import pandas as pd\n",
    "results_df = pd.DataFrame([{ 'Model': k, 'MSE': v['MSE'], 'R2': v['R2'] } for k, v in results.items()])\n",
    "results_df.sort_values('R2', ascending=False, inplace=True)\n",
    "results_df"
   ]
  },
  {
   "cell_type": "code",
   "execution_count": 51,
   "id": "54541660",
   "metadata": {},
   "outputs": [
    {
     "data": {
      "text/html": [
       "<style type=\"text/css\">\n",
       "#T_3dfed_row0_col1, #T_3dfed_row2_col2 {\n",
       "  background-color: #ffffd9;\n",
       "  color: #000000;\n",
       "}\n",
       "#T_3dfed_row0_col2, #T_3dfed_row2_col1 {\n",
       "  background-color: #081d58;\n",
       "  color: #f1f1f1;\n",
       "}\n",
       "#T_3dfed_row1_col1 {\n",
       "  background-color: #3eb3c4;\n",
       "  color: #f1f1f1;\n",
       "}\n",
       "#T_3dfed_row1_col2 {\n",
       "  background-color: #46b8c3;\n",
       "  color: #f1f1f1;\n",
       "}\n",
       "</style>\n",
       "<table id=\"T_3dfed\">\n",
       "  <caption>Model Performance Comparison</caption>\n",
       "  <thead>\n",
       "    <tr>\n",
       "      <th class=\"blank level0\" >&nbsp;</th>\n",
       "      <th id=\"T_3dfed_level0_col0\" class=\"col_heading level0 col0\" >Model</th>\n",
       "      <th id=\"T_3dfed_level0_col1\" class=\"col_heading level0 col1\" >MSE</th>\n",
       "      <th id=\"T_3dfed_level0_col2\" class=\"col_heading level0 col2\" >R2</th>\n",
       "    </tr>\n",
       "  </thead>\n",
       "  <tbody>\n",
       "    <tr>\n",
       "      <th id=\"T_3dfed_level0_row0\" class=\"row_heading level0 row0\" >1</th>\n",
       "      <td id=\"T_3dfed_row0_col0\" class=\"data row0 col0\" >RandomForest</td>\n",
       "      <td id=\"T_3dfed_row0_col1\" class=\"data row0 col1\" >136859213.23</td>\n",
       "      <td id=\"T_3dfed_row0_col2\" class=\"data row0 col2\" >0.9462</td>\n",
       "    </tr>\n",
       "    <tr>\n",
       "      <th id=\"T_3dfed_level0_row1\" class=\"row_heading level0 row1\" >2</th>\n",
       "      <td id=\"T_3dfed_row1_col0\" class=\"data row1 col0\" >GradientBoosting</td>\n",
       "      <td id=\"T_3dfed_row1_col1\" class=\"data row1 col1\" >178576757.10</td>\n",
       "      <td id=\"T_3dfed_row1_col2\" class=\"data row1 col2\" >0.9299</td>\n",
       "    </tr>\n",
       "    <tr>\n",
       "      <th id=\"T_3dfed_level0_row2\" class=\"row_heading level0 row2\" >0</th>\n",
       "      <td id=\"T_3dfed_row2_col0\" class=\"data row2 col0\" >LinearRegression</td>\n",
       "      <td id=\"T_3dfed_row2_col1\" class=\"data row2 col1\" >218988862.08</td>\n",
       "      <td id=\"T_3dfed_row2_col2\" class=\"data row2 col2\" >0.9140</td>\n",
       "    </tr>\n",
       "  </tbody>\n",
       "</table>\n"
      ],
      "text/plain": [
       "<pandas.io.formats.style.Styler at 0x1b12a921e80>"
      ]
     },
     "execution_count": 51,
     "metadata": {},
     "output_type": "execute_result"
    }
   ],
   "source": [
    "# Display the model comparison table as a styled table\n",
    "results_df.style.set_caption('Model Performance Comparison').format({'MSE': '{:.2f}', 'R2': '{:.4f}'}).background_gradient(cmap='YlGnBu')"
   ]
  },
  {
   "cell_type": "markdown",
   "id": "e152f7e5",
   "metadata": {},
   "source": [
    "## Encode Categorical Variables"
   ]
  },
  {
   "cell_type": "code",
   "execution_count": 52,
   "id": "37129fb8",
   "metadata": {},
   "outputs": [
    {
     "name": "stderr",
     "output_type": "stream",
     "text": [
      "C:\\Users\\asish\\AppData\\Local\\Temp\\ipykernel_1352\\264436132.py:5: FutureWarning: \n",
      "\n",
      "Passing `palette` without assigning `hue` is deprecated and will be removed in v0.14.0. Assign the `x` variable to `hue` and set `legend=False` for the same effect.\n",
      "\n",
      "  sns.barplot(x='Model', y='R2', data=results_df, palette='viridis')\n"
     ]
    },
    {
     "data": {
      "image/png": "[encoded data removed]",
      "text/plain": [
       "<Figure size 800x500 with 1 Axes>"
      ]
     },
     "metadata": {},
     "output_type": "display_data"
    }
   ],
   "source": [
    "# Model R2 Score Bar Chart\n",
    "import matplotlib.pyplot as plt\n",
    "import seaborn as sns\n",
    "plt.figure(figsize=(8,5))\n",
    "sns.barplot(x='Model', y='R2', data=results_df, palette='viridis')\n",
    "plt.ylabel('R2 Score')\n",
    "plt.title('Model R2 Comparison')\n",
    "plt.xticks(rotation=45)\n",
    "plt.grid(True)\n",
    "plt.show()"
   ]
  },
  {
   "cell_type": "markdown",
   "id": "17f9cf62",
   "metadata": {},
   "source": [
    "### Best Model Summary\n",
    "The best performing regression model is highlighted below, along with its R2 score."
   ]
  },
  {
   "cell_type": "code",
   "execution_count": 53,
   "id": "d3b5ef09",
   "metadata": {},
   "outputs": [
    {
     "name": "stdout",
     "output_type": "stream",
     "text": [
      "Best Model: RandomForest | R2 Score: 0.9462\n"
     ]
    }
   ],
   "source": [
    "# Display the best model and its R2 score\n",
    "best_model_name = results_df.iloc[0]['Model']\n",
    "best_r2 = results_df.iloc[0]['R2']\n",
    "print(f'Best Model: {best_model_name} | R2 Score: {best_r2:.4f}')"
   ]
  },
  {
   "cell_type": "markdown",
   "id": "add89be9",
   "metadata": {},
   "source": [
    "## Model Training and Comparison"
   ]
  },
  {
   "cell_type": "code",
   "execution_count": 57,
   "id": "1869f518",
   "metadata": {},
   "outputs": [
    {
     "name": "stdout",
     "output_type": "stream",
     "text": [
      "LogisticRegression Accuracy: 0.2400\n",
      "              precision    recall  f1-score   support\n",
      "\n",
      "     30000.0       0.00      0.00      0.00         1\n",
      "     35000.0       0.00      0.00      0.00         3\n",
      "     40000.0       0.30      1.00      0.46         6\n",
      "     45000.0       0.00      0.00      0.00         3\n",
      "     50000.0       0.00      0.00      0.00         6\n",
      "     55000.0       0.00      0.00      0.00         1\n",
      "     60000.0       0.33      0.50      0.40         4\n",
      "     65000.0       0.00      0.00      0.00         3\n",
      "     70000.0       0.00      0.00      0.00         1\n",
      "     75000.0       0.00      0.00      0.00         2\n",
      "     80000.0       0.00      0.00      0.00         0\n",
      "     85000.0       0.00      0.00      0.00         1\n",
      "     90000.0       0.00      0.00      0.00         3\n",
      "     95000.0       0.25      0.40      0.31         5\n",
      "    100000.0       0.00      0.00      0.00         5\n",
      "    105000.0       0.00      0.00      0.00         1\n",
      "    110000.0       0.00      0.00      0.00         3\n",
      "    115000.0       0.00      0.00      0.00         0\n",
      "    120000.0       0.25      0.25      0.25         4\n",
      "    125000.0       0.00      0.00      0.00         1\n",
      "    130000.0       0.00      0.00      0.00         0\n",
      "    140000.0       0.00      0.00      0.00         4\n",
      "    150000.0       0.18      1.00      0.31         2\n",
      "    160000.0       0.33      0.17      0.22         6\n",
      "    170000.0       0.40      0.67      0.50         3\n",
      "    180000.0       1.00      0.40      0.57         5\n",
      "    190000.0       0.00      0.00      0.00         1\n",
      "    250000.0       0.00      0.00      0.00         1\n",
      "\n",
      "    accuracy                           0.24        75\n",
      "   macro avg       0.11      0.16      0.11        75\n",
      "weighted avg       0.19      0.24      0.18        75\n",
      "\n"
     ]
    },
    {
     "name": "stderr",
     "output_type": "stream",
     "text": [
      "c:\\Users\\asish\\AppData\\Local\\Programs\\Python\\Python313\\Lib\\site-packages\\sklearn\\metrics\\_classification.py:1706: UndefinedMetricWarning: Precision is ill-defined and being set to 0.0 in labels with no predicted samples. Use `zero_division` parameter to control this behavior.\n",
      "  _warn_prf(average, modifier, f\"{metric.capitalize()} is\", result.shape[0])\n",
      "c:\\Users\\asish\\AppData\\Local\\Programs\\Python\\Python313\\Lib\\site-packages\\sklearn\\metrics\\_classification.py:1706: UndefinedMetricWarning: Recall is ill-defined and being set to 0.0 in labels with no true samples. Use `zero_division` parameter to control this behavior.\n",
      "  _warn_prf(average, modifier, f\"{metric.capitalize()} is\", result.shape[0])\n",
      "c:\\Users\\asish\\AppData\\Local\\Programs\\Python\\Python313\\Lib\\site-packages\\sklearn\\metrics\\_classification.py:1706: UndefinedMetricWarning: Precision is ill-defined and being set to 0.0 in labels with no predicted samples. Use `zero_division` parameter to control this behavior.\n",
      "  _warn_prf(average, modifier, f\"{metric.capitalize()} is\", result.shape[0])\n",
      "c:\\Users\\asish\\AppData\\Local\\Programs\\Python\\Python313\\Lib\\site-packages\\sklearn\\metrics\\_classification.py:1706: UndefinedMetricWarning: Recall is ill-defined and being set to 0.0 in labels with no true samples. Use `zero_division` parameter to control this behavior.\n",
      "  _warn_prf(average, modifier, f\"{metric.capitalize()} is\", result.shape[0])\n",
      "c:\\Users\\asish\\AppData\\Local\\Programs\\Python\\Python313\\Lib\\site-packages\\sklearn\\metrics\\_classification.py:1706: UndefinedMetricWarning: Precision is ill-defined and being set to 0.0 in labels with no predicted samples. Use `zero_division` parameter to control this behavior.\n",
      "  _warn_prf(average, modifier, f\"{metric.capitalize()} is\", result.shape[0])\n",
      "c:\\Users\\asish\\AppData\\Local\\Programs\\Python\\Python313\\Lib\\site-packages\\sklearn\\metrics\\_classification.py:1706: UndefinedMetricWarning: Recall is ill-defined and being set to 0.0 in labels with no true samples. Use `zero_division` parameter to control this behavior.\n",
      "  _warn_prf(average, modifier, f\"{metric.capitalize()} is\", result.shape[0])\n"
     ]
    },
    {
     "name": "stdout",
     "output_type": "stream",
     "text": [
      "RandomForest Accuracy: 0.4800\n",
      "              precision    recall  f1-score   support\n",
      "\n",
      "     30000.0       0.00      0.00      0.00         1\n",
      "     35000.0       0.50      0.33      0.40         3\n",
      "     40000.0       0.50      0.83      0.62         6\n",
      "     45000.0       0.20      0.33      0.25         3\n",
      "     50000.0       0.50      0.50      0.50         6\n",
      "     55000.0       0.00      0.00      0.00         1\n",
      "     60000.0       0.50      0.50      0.50         4\n",
      "     65000.0       0.00      0.00      0.00         3\n",
      "     70000.0       0.00      0.00      0.00         1\n",
      "     75000.0       0.00      0.00      0.00         2\n",
      "     85000.0       1.00      1.00      1.00         1\n",
      "     90000.0       0.50      0.33      0.40         3\n",
      "     95000.0       1.00      0.60      0.75         5\n",
      "    100000.0       0.50      0.20      0.29         5\n",
      "    105000.0       0.00      0.00      0.00         1\n",
      "    110000.0       0.33      0.33      0.33         3\n",
      "    120000.0       0.60      0.75      0.67         4\n",
      "    125000.0       0.00      0.00      0.00         1\n",
      "    130000.0       0.00      0.00      0.00         0\n",
      "    140000.0       1.00      0.50      0.67         4\n",
      "    150000.0       0.50      1.00      0.67         2\n",
      "    160000.0       0.57      0.67      0.62         6\n",
      "    170000.0       1.00      0.67      0.80         3\n",
      "    180000.0       0.67      0.80      0.73         5\n",
      "    190000.0       0.00      0.00      0.00         1\n",
      "    250000.0       0.00      0.00      0.00         1\n",
      "\n",
      "    accuracy                           0.48        75\n",
      "   macro avg       0.38      0.36      0.35        75\n",
      "weighted avg       0.51      0.48      0.47        75\n",
      "\n",
      "KNN Accuracy: 0.3467\n",
      "              precision    recall  f1-score   support\n",
      "\n",
      "     30000.0       0.00      0.00      0.00         1\n",
      "     35000.0       0.33      0.33      0.33         3\n",
      "     40000.0       0.50      0.67      0.57         6\n",
      "     45000.0       0.33      0.33      0.33         3\n",
      "     50000.0       0.75      0.50      0.60         6\n",
      "     55000.0       0.00      0.00      0.00         1\n",
      "     60000.0       0.33      0.50      0.40         4\n",
      "     65000.0       0.00      0.00      0.00         3\n",
      "     70000.0       1.00      1.00      1.00         1\n",
      "     75000.0       0.00      0.00      0.00         2\n",
      "     80000.0       0.00      0.00      0.00         0\n",
      "     85000.0       0.50      1.00      0.67         1\n",
      "     90000.0       0.25      0.33      0.29         3\n",
      "     95000.0       0.75      0.60      0.67         5\n",
      "    100000.0       0.00      0.00      0.00         5\n",
      "    105000.0       0.00      0.00      0.00         1\n",
      "    110000.0       0.29      0.67      0.40         3\n",
      "    120000.0       0.50      0.25      0.33         4\n",
      "    125000.0       0.00      0.00      0.00         1\n",
      "    130000.0       0.00      0.00      0.00         0\n",
      "    140000.0       0.00      0.00      0.00         4\n",
      "    150000.0       0.17      1.00      0.29         2\n",
      "    160000.0       0.00      0.00      0.00         6\n",
      "    170000.0       0.50      0.67      0.57         3\n",
      "    180000.0       0.67      0.40      0.50         5\n",
      "    190000.0       0.00      0.00      0.00         1\n",
      "    250000.0       0.00      0.00      0.00         1\n",
      "\n",
      "    accuracy                           0.35        75\n",
      "   macro avg       0.25      0.31      0.26        75\n",
      "weighted avg       0.33      0.35      0.32        75\n",
      "\n",
      "SVM Accuracy: 0.2667\n",
      "              precision    recall  f1-score   support\n",
      "\n",
      "     30000.0       0.00      0.00      0.00         1\n",
      "     35000.0       0.00      0.00      0.00         3\n",
      "     40000.0       0.28      0.83      0.42         6\n",
      "     45000.0       0.00      0.00      0.00         3\n",
      "     50000.0       0.00      0.00      0.00         6\n",
      "     55000.0       0.00      0.00      0.00         1\n",
      "     60000.0       0.33      0.50      0.40         4\n",
      "     65000.0       0.00      0.00      0.00         3\n",
      "     70000.0       0.00      0.00      0.00         1\n",
      "     75000.0       0.00      0.00      0.00         2\n",
      "     80000.0       0.00      0.00      0.00         0\n",
      "     85000.0       0.33      1.00      0.50         1\n",
      "     90000.0       0.00      0.00      0.00         3\n",
      "     95000.0       0.33      0.40      0.36         5\n",
      "    100000.0       0.00      0.00      0.00         5\n",
      "    105000.0       0.00      0.00      0.00         1\n",
      "    110000.0       0.00      0.00      0.00         3\n",
      "    120000.0       0.33      1.00      0.50         4\n",
      "    125000.0       0.00      0.00      0.00         1\n",
      "    130000.0       0.00      0.00      0.00         0\n",
      "    140000.0       0.00      0.00      0.00         4\n",
      "    150000.0       0.15      1.00      0.27         2\n",
      "    160000.0       0.00      0.00      0.00         6\n",
      "    170000.0       0.50      0.67      0.57         3\n",
      "    180000.0       0.67      0.40      0.50         5\n",
      "    190000.0       0.00      0.00      0.00         1\n",
      "    250000.0       0.00      0.00      0.00         1\n",
      "\n",
      "    accuracy                           0.27        75\n",
      "   macro avg       0.11      0.21      0.13        75\n",
      "weighted avg       0.15      0.27      0.18        75\n",
      "\n"
     ]
    },
    {
     "name": "stderr",
     "output_type": "stream",
     "text": [
      "c:\\Users\\asish\\AppData\\Local\\Programs\\Python\\Python313\\Lib\\site-packages\\sklearn\\metrics\\_classification.py:1706: UndefinedMetricWarning: Precision is ill-defined and being set to 0.0 in labels with no predicted samples. Use `zero_division` parameter to control this behavior.\n",
      "  _warn_prf(average, modifier, f\"{metric.capitalize()} is\", result.shape[0])\n",
      "c:\\Users\\asish\\AppData\\Local\\Programs\\Python\\Python313\\Lib\\site-packages\\sklearn\\metrics\\_classification.py:1706: UndefinedMetricWarning: Recall is ill-defined and being set to 0.0 in labels with no true samples. Use `zero_division` parameter to control this behavior.\n",
      "  _warn_prf(average, modifier, f\"{metric.capitalize()} is\", result.shape[0])\n",
      "c:\\Users\\asish\\AppData\\Local\\Programs\\Python\\Python313\\Lib\\site-packages\\sklearn\\metrics\\_classification.py:1706: UndefinedMetricWarning: Precision is ill-defined and being set to 0.0 in labels with no predicted samples. Use `zero_division` parameter to control this behavior.\n",
      "  _warn_prf(average, modifier, f\"{metric.capitalize()} is\", result.shape[0])\n",
      "c:\\Users\\asish\\AppData\\Local\\Programs\\Python\\Python313\\Lib\\site-packages\\sklearn\\metrics\\_classification.py:1706: UndefinedMetricWarning: Recall is ill-defined and being set to 0.0 in labels with no true samples. Use `zero_division` parameter to control this behavior.\n",
      "  _warn_prf(average, modifier, f\"{metric.capitalize()} is\", result.shape[0])\n",
      "c:\\Users\\asish\\AppData\\Local\\Programs\\Python\\Python313\\Lib\\site-packages\\sklearn\\metrics\\_classification.py:1706: UndefinedMetricWarning: Precision is ill-defined and being set to 0.0 in labels with no predicted samples. Use `zero_division` parameter to control this behavior.\n",
      "  _warn_prf(average, modifier, f\"{metric.capitalize()} is\", result.shape[0])\n",
      "c:\\Users\\asish\\AppData\\Local\\Programs\\Python\\Python313\\Lib\\site-packages\\sklearn\\metrics\\_classification.py:1706: UndefinedMetricWarning: Recall is ill-defined and being set to 0.0 in labels with no true samples. Use `zero_division` parameter to control this behavior.\n",
      "  _warn_prf(average, modifier, f\"{metric.capitalize()} is\", result.shape[0])\n",
      "c:\\Users\\asish\\AppData\\Local\\Programs\\Python\\Python313\\Lib\\site-packages\\sklearn\\metrics\\_classification.py:1706: UndefinedMetricWarning: Precision is ill-defined and being set to 0.0 in labels with no predicted samples. Use `zero_division` parameter to control this behavior.\n",
      "  _warn_prf(average, modifier, f\"{metric.capitalize()} is\", result.shape[0])\n",
      "c:\\Users\\asish\\AppData\\Local\\Programs\\Python\\Python313\\Lib\\site-packages\\sklearn\\metrics\\_classification.py:1706: UndefinedMetricWarning: Recall is ill-defined and being set to 0.0 in labels with no true samples. Use `zero_division` parameter to control this behavior.\n",
      "  _warn_prf(average, modifier, f\"{metric.capitalize()} is\", result.shape[0])\n",
      "c:\\Users\\asish\\AppData\\Local\\Programs\\Python\\Python313\\Lib\\site-packages\\sklearn\\metrics\\_classification.py:1706: UndefinedMetricWarning: Precision is ill-defined and being set to 0.0 in labels with no predicted samples. Use `zero_division` parameter to control this behavior.\n",
      "  _warn_prf(average, modifier, f\"{metric.capitalize()} is\", result.shape[0])\n",
      "c:\\Users\\asish\\AppData\\Local\\Programs\\Python\\Python313\\Lib\\site-packages\\sklearn\\metrics\\_classification.py:1706: UndefinedMetricWarning: Recall is ill-defined and being set to 0.0 in labels with no true samples. Use `zero_division` parameter to control this behavior.\n",
      "  _warn_prf(average, modifier, f\"{metric.capitalize()} is\", result.shape[0])\n",
      "c:\\Users\\asish\\AppData\\Local\\Programs\\Python\\Python313\\Lib\\site-packages\\sklearn\\metrics\\_classification.py:1706: UndefinedMetricWarning: Precision is ill-defined and being set to 0.0 in labels with no predicted samples. Use `zero_division` parameter to control this behavior.\n",
      "  _warn_prf(average, modifier, f\"{metric.capitalize()} is\", result.shape[0])\n",
      "c:\\Users\\asish\\AppData\\Local\\Programs\\Python\\Python313\\Lib\\site-packages\\sklearn\\metrics\\_classification.py:1706: UndefinedMetricWarning: Recall is ill-defined and being set to 0.0 in labels with no true samples. Use `zero_division` parameter to control this behavior.\n",
      "  _warn_prf(average, modifier, f\"{metric.capitalize()} is\", result.shape[0])\n",
      "c:\\Users\\asish\\AppData\\Local\\Programs\\Python\\Python313\\Lib\\site-packages\\sklearn\\metrics\\_classification.py:1706: UndefinedMetricWarning: Precision is ill-defined and being set to 0.0 in labels with no predicted samples. Use `zero_division` parameter to control this behavior.\n",
      "  _warn_prf(average, modifier, f\"{metric.capitalize()} is\", result.shape[0])\n",
      "c:\\Users\\asish\\AppData\\Local\\Programs\\Python\\Python313\\Lib\\site-packages\\sklearn\\metrics\\_classification.py:1706: UndefinedMetricWarning: Recall is ill-defined and being set to 0.0 in labels with no true samples. Use `zero_division` parameter to control this behavior.\n",
      "  _warn_prf(average, modifier, f\"{metric.capitalize()} is\", result.shape[0])\n",
      "c:\\Users\\asish\\AppData\\Local\\Programs\\Python\\Python313\\Lib\\site-packages\\sklearn\\metrics\\_classification.py:1706: UndefinedMetricWarning: Precision is ill-defined and being set to 0.0 in labels with no predicted samples. Use `zero_division` parameter to control this behavior.\n",
      "  _warn_prf(average, modifier, f\"{metric.capitalize()} is\", result.shape[0])\n",
      "c:\\Users\\asish\\AppData\\Local\\Programs\\Python\\Python313\\Lib\\site-packages\\sklearn\\metrics\\_classification.py:1706: UndefinedMetricWarning: Recall is ill-defined and being set to 0.0 in labels with no true samples. Use `zero_division` parameter to control this behavior.\n",
      "  _warn_prf(average, modifier, f\"{metric.capitalize()} is\", result.shape[0])\n",
      "c:\\Users\\asish\\AppData\\Local\\Programs\\Python\\Python313\\Lib\\site-packages\\sklearn\\metrics\\_classification.py:1706: UndefinedMetricWarning: Precision is ill-defined and being set to 0.0 in labels with no predicted samples. Use `zero_division` parameter to control this behavior.\n",
      "  _warn_prf(average, modifier, f\"{metric.capitalize()} is\", result.shape[0])\n",
      "c:\\Users\\asish\\AppData\\Local\\Programs\\Python\\Python313\\Lib\\site-packages\\sklearn\\metrics\\_classification.py:1706: UndefinedMetricWarning: Recall is ill-defined and being set to 0.0 in labels with no true samples. Use `zero_division` parameter to control this behavior.\n",
      "  _warn_prf(average, modifier, f\"{metric.capitalize()} is\", result.shape[0])\n"
     ]
    },
    {
     "name": "stdout",
     "output_type": "stream",
     "text": [
      "GradientBoosting Accuracy: 0.3733\n",
      "              precision    recall  f1-score   support\n",
      "\n",
      "     30000.0       0.00      0.00      0.00         1\n",
      "     35000.0       0.00      0.00      0.00         3\n",
      "     40000.0       0.50      1.00      0.67         6\n",
      "     45000.0       0.33      0.33      0.33         3\n",
      "     50000.0       0.43      0.50      0.46         6\n",
      "     55000.0       0.00      0.00      0.00         1\n",
      "     60000.0       0.33      0.25      0.29         4\n",
      "     65000.0       0.00      0.00      0.00         3\n",
      "     70000.0       0.00      0.00      0.00         1\n",
      "     75000.0       0.00      0.00      0.00         2\n",
      "     80000.0       0.00      0.00      0.00         0\n",
      "     85000.0       1.00      1.00      1.00         1\n",
      "     90000.0       0.00      0.00      0.00         3\n",
      "     95000.0       0.33      0.40      0.36         5\n",
      "    100000.0       0.00      0.00      0.00         5\n",
      "    105000.0       0.00      0.00      0.00         1\n",
      "    110000.0       0.33      0.33      0.33         3\n",
      "    120000.0       0.00      0.00      0.00         4\n",
      "    125000.0       0.00      0.00      0.00         1\n",
      "    130000.0       0.00      0.00      0.00         0\n",
      "    140000.0       1.00      0.25      0.40         4\n",
      "    145000.0       0.00      0.00      0.00         0\n",
      "    150000.0       0.33      1.00      0.50         2\n",
      "    160000.0       0.62      0.83      0.71         6\n",
      "    170000.0       1.00      0.67      0.80         3\n",
      "    180000.0       0.60      0.60      0.60         5\n",
      "    190000.0       0.00      0.00      0.00         1\n",
      "    220000.0       0.00      0.00      0.00         0\n",
      "    250000.0       0.00      0.00      0.00         1\n",
      "\n",
      "    accuracy                           0.37        75\n",
      "   macro avg       0.24      0.25      0.22        75\n",
      "weighted avg       0.35      0.37      0.33        75\n",
      "\n"
     ]
    },
    {
     "name": "stderr",
     "output_type": "stream",
     "text": [
      "c:\\Users\\asish\\AppData\\Local\\Programs\\Python\\Python313\\Lib\\site-packages\\sklearn\\metrics\\_classification.py:1706: UndefinedMetricWarning: Precision is ill-defined and being set to 0.0 in labels with no predicted samples. Use `zero_division` parameter to control this behavior.\n",
      "  _warn_prf(average, modifier, f\"{metric.capitalize()} is\", result.shape[0])\n",
      "c:\\Users\\asish\\AppData\\Local\\Programs\\Python\\Python313\\Lib\\site-packages\\sklearn\\metrics\\_classification.py:1706: UndefinedMetricWarning: Recall is ill-defined and being set to 0.0 in labels with no true samples. Use `zero_division` parameter to control this behavior.\n",
      "  _warn_prf(average, modifier, f\"{metric.capitalize()} is\", result.shape[0])\n",
      "c:\\Users\\asish\\AppData\\Local\\Programs\\Python\\Python313\\Lib\\site-packages\\sklearn\\metrics\\_classification.py:1706: UndefinedMetricWarning: Precision is ill-defined and being set to 0.0 in labels with no predicted samples. Use `zero_division` parameter to control this behavior.\n",
      "  _warn_prf(average, modifier, f\"{metric.capitalize()} is\", result.shape[0])\n",
      "c:\\Users\\asish\\AppData\\Local\\Programs\\Python\\Python313\\Lib\\site-packages\\sklearn\\metrics\\_classification.py:1706: UndefinedMetricWarning: Recall is ill-defined and being set to 0.0 in labels with no true samples. Use `zero_division` parameter to control this behavior.\n",
      "  _warn_prf(average, modifier, f\"{metric.capitalize()} is\", result.shape[0])\n",
      "c:\\Users\\asish\\AppData\\Local\\Programs\\Python\\Python313\\Lib\\site-packages\\sklearn\\metrics\\_classification.py:1706: UndefinedMetricWarning: Precision is ill-defined and being set to 0.0 in labels with no predicted samples. Use `zero_division` parameter to control this behavior.\n",
      "  _warn_prf(average, modifier, f\"{metric.capitalize()} is\", result.shape[0])\n",
      "c:\\Users\\asish\\AppData\\Local\\Programs\\Python\\Python313\\Lib\\site-packages\\sklearn\\metrics\\_classification.py:1706: UndefinedMetricWarning: Recall is ill-defined and being set to 0.0 in labels with no true samples. Use `zero_division` parameter to control this behavior.\n",
      "  _warn_prf(average, modifier, f\"{metric.capitalize()} is\", result.shape[0])\n"
     ]
    }
   ],
   "source": [
    "# Model Training and Comparison\n",
    "from sklearn.preprocessing import StandardScaler\n",
    "if 'X' in locals() or 'X' in globals():\n",
    "    if 'y' in locals() or 'y' in globals():\n",
    "        X_train, X_test, y_train, y_test = train_test_split(X, y, test_size=0.2, random_state=42)\n",
    "        models = {\n",
    "            'LogisticRegression': LogisticRegression(),\n",
    "            'RandomForest': RandomForestClassifier(),\n",
    "            'KNN': KNeighborsClassifier(),\n",
    "            'SVM': SVC(),\n",
    "            'GradientBoosting': GradientBoostingClassifier()\n",
    "        }\n",
    "        results = {}\n",
    "        for name, model in models.items():\n",
    "            pipe = Pipeline([('scaler', StandardScaler()), ('model', model)])\n",
    "            pipe.fit(X_train, y_train)\n",
    "            y_pred = pipe.predict(X_test)\n",
    "            acc = accuracy_score(y_test, y_pred)\n",
    "            results[name] = acc\n",
    "            print(f'{name} Accuracy: {acc:.4f}')\n",
    "            print(classification_report(y_test, y_pred))\n",
    "    else:\n",
    "        print(\"Variable 'y' is not defined. Please check the feature and target split cell.\")\n",
    "else:\n",
    "    print(\"Variable 'X' is not defined. Please check the feature and target split cell.\")"
   ]
  },
  {
   "cell_type": "markdown",
   "id": "5eb46e85",
   "metadata": {},
   "source": [
    "## Model Comparison Table"
   ]
  },
  {
   "cell_type": "code",
   "execution_count": 62,
   "id": "dcf1d0f7",
   "metadata": {},
   "outputs": [
    {
     "data": {
      "text/html": [
       "<div>\n",
       "<style scoped>\n",
       "    .dataframe tbody tr th:only-of-type {\n",
       "        vertical-align: middle;\n",
       "    }\n",
       "\n",
       "    .dataframe tbody tr th {\n",
       "        vertical-align: top;\n",
       "    }\n",
       "\n",
       "    .dataframe thead th {\n",
       "        text-align: right;\n",
       "    }\n",
       "</style>\n",
       "<table border=\"1\" class=\"dataframe\">\n",
       "  <thead>\n",
       "    <tr style=\"text-align: right;\">\n",
       "      <th></th>\n",
       "      <th>Model</th>\n",
       "      <th>Accuracy</th>\n",
       "    </tr>\n",
       "  </thead>\n",
       "  <tbody>\n",
       "    <tr>\n",
       "      <th>1</th>\n",
       "      <td>RandomForest</td>\n",
       "      <td>0.480000</td>\n",
       "    </tr>\n",
       "    <tr>\n",
       "      <th>4</th>\n",
       "      <td>GradientBoosting</td>\n",
       "      <td>0.373333</td>\n",
       "    </tr>\n",
       "    <tr>\n",
       "      <th>2</th>\n",
       "      <td>KNN</td>\n",
       "      <td>0.346667</td>\n",
       "    </tr>\n",
       "    <tr>\n",
       "      <th>3</th>\n",
       "      <td>SVM</td>\n",
       "      <td>0.266667</td>\n",
       "    </tr>\n",
       "    <tr>\n",
       "      <th>0</th>\n",
       "      <td>LogisticRegression</td>\n",
       "      <td>0.240000</td>\n",
       "    </tr>\n",
       "  </tbody>\n",
       "</table>\n",
       "</div>"
      ],
      "text/plain": [
       "                Model  Accuracy\n",
       "1        RandomForest  0.480000\n",
       "4    GradientBoosting  0.373333\n",
       "2                 KNN  0.346667\n",
       "3                 SVM  0.266667\n",
       "0  LogisticRegression  0.240000"
      ]
     },
     "metadata": {},
     "output_type": "display_data"
    }
   ],
   "source": [
    "import pandas as pd\n",
    "from IPython.display import display\n",
    "if 'results' in locals() or 'results' in globals():\n",
    "    results_df = pd.DataFrame(list(results.items()), columns=['Model', 'Accuracy'])\n",
    "    results_df.sort_values('Accuracy', ascending=False, inplace=True)\n",
    "    display(results_df)\n",
    "else:\n",
    "    print(\"Variable 'results' is not defined. Please check the model training cell.\")"
   ]
  },
  {
   "cell_type": "markdown",
   "id": "88bd4cb0",
   "metadata": {},
   "source": [
    "### Model Comparison Table (Formatted)\n",
    "Below is a formatted table showing the accuracy of each model."
   ]
  },
  {
   "cell_type": "code",
   "execution_count": 64,
   "id": "4b7c07de",
   "metadata": {},
   "outputs": [
    {
     "data": {
      "text/html": [
       "<style type=\"text/css\">\n",
       "#T_92cc9_row0_col1 {\n",
       "  background-color: #081d58;\n",
       "  color: #f1f1f1;\n",
       "}\n",
       "#T_92cc9_row1_col1 {\n",
       "  background-color: #31a5c2;\n",
       "  color: #f1f1f1;\n",
       "}\n",
       "#T_92cc9_row2_col1 {\n",
       "  background-color: #5dc0c0;\n",
       "  color: #000000;\n",
       "}\n",
       "#T_92cc9_row3_col1 {\n",
       "  background-color: #eff9b6;\n",
       "  color: #000000;\n",
       "}\n",
       "#T_92cc9_row4_col1 {\n",
       "  background-color: #ffffd9;\n",
       "  color: #000000;\n",
       "}\n",
       "</style>\n",
       "<table id=\"T_92cc9\">\n",
       "  <caption>Model Accuracy Comparison</caption>\n",
       "  <thead>\n",
       "    <tr>\n",
       "      <th class=\"blank level0\" >&nbsp;</th>\n",
       "      <th id=\"T_92cc9_level0_col0\" class=\"col_heading level0 col0\" >Model</th>\n",
       "      <th id=\"T_92cc9_level0_col1\" class=\"col_heading level0 col1\" >Accuracy</th>\n",
       "    </tr>\n",
       "  </thead>\n",
       "  <tbody>\n",
       "    <tr>\n",
       "      <th id=\"T_92cc9_level0_row0\" class=\"row_heading level0 row0\" >1</th>\n",
       "      <td id=\"T_92cc9_row0_col0\" class=\"data row0 col0\" >RandomForest</td>\n",
       "      <td id=\"T_92cc9_row0_col1\" class=\"data row0 col1\" >0.4800</td>\n",
       "    </tr>\n",
       "    <tr>\n",
       "      <th id=\"T_92cc9_level0_row1\" class=\"row_heading level0 row1\" >4</th>\n",
       "      <td id=\"T_92cc9_row1_col0\" class=\"data row1 col0\" >GradientBoosting</td>\n",
       "      <td id=\"T_92cc9_row1_col1\" class=\"data row1 col1\" >0.3733</td>\n",
       "    </tr>\n",
       "    <tr>\n",
       "      <th id=\"T_92cc9_level0_row2\" class=\"row_heading level0 row2\" >2</th>\n",
       "      <td id=\"T_92cc9_row2_col0\" class=\"data row2 col0\" >KNN</td>\n",
       "      <td id=\"T_92cc9_row2_col1\" class=\"data row2 col1\" >0.3467</td>\n",
       "    </tr>\n",
       "    <tr>\n",
       "      <th id=\"T_92cc9_level0_row3\" class=\"row_heading level0 row3\" >3</th>\n",
       "      <td id=\"T_92cc9_row3_col0\" class=\"data row3 col0\" >SVM</td>\n",
       "      <td id=\"T_92cc9_row3_col1\" class=\"data row3 col1\" >0.2667</td>\n",
       "    </tr>\n",
       "    <tr>\n",
       "      <th id=\"T_92cc9_level0_row4\" class=\"row_heading level0 row4\" >0</th>\n",
       "      <td id=\"T_92cc9_row4_col0\" class=\"data row4 col0\" >LogisticRegression</td>\n",
       "      <td id=\"T_92cc9_row4_col1\" class=\"data row4 col1\" >0.2400</td>\n",
       "    </tr>\n",
       "  </tbody>\n",
       "</table>\n"
      ],
      "text/plain": [
       "<pandas.io.formats.style.Styler at 0x1b129e98e10>"
      ]
     },
     "metadata": {},
     "output_type": "display_data"
    }
   ],
   "source": [
    "from IPython.display import display\n",
    "\n",
    "# Display the model comparison table as a styled table\n",
    "if 'results_df' in locals() or 'results_df' in globals():\n",
    "    display(results_df.style.set_caption('Model Accuracy Comparison').format({'Accuracy': '{:.4f}'}).background_gradient(cmap='YlGnBu'))\n",
    "else:\n",
    "    print(\"Variable 'results_df' is not defined. Please check the previous cell.\")"
   ]
  },
  {
   "cell_type": "markdown",
   "id": "c1ed8a80",
   "metadata": {},
   "source": [
    "## Model Accuracy Bar Chart"
   ]
  },
  {
   "cell_type": "markdown",
   "id": "d024171d",
   "metadata": {},
   "source": [
    "### Model Accuracy Bar Chart\n",
    "The following bar chart visually compares the accuracy of each model."
   ]
  },
  {
   "cell_type": "code",
   "execution_count": 60,
   "id": "a95b036b",
   "metadata": {},
   "outputs": [
    {
     "name": "stderr",
     "output_type": "stream",
     "text": [
      "C:\\Users\\asish\\AppData\\Local\\Temp\\ipykernel_1352\\4287633577.py:4: FutureWarning: \n",
      "\n",
      "Passing `palette` without assigning `hue` is deprecated and will be removed in v0.14.0. Assign the `x` variable to `hue` and set `legend=False` for the same effect.\n",
      "\n",
      "  sns.barplot(x='Model', y='Accuracy', data=results_df, palette='viridis')\n"
     ]
    },
    {
     "data": {
      "image/png": "[encoded data removed]",
      "text/plain": [
       "<Figure size 800x500 with 1 Axes>"
      ]
     },
     "metadata": {},
     "output_type": "display_data"
    }
   ],
   "source": [
    "# Model Accuracy Bar Chart\n",
    "if 'results_df' in locals() or 'results_df' in globals():\n",
    "    plt.figure(figsize=(8,5))\n",
    "    sns.barplot(x='Model', y='Accuracy', data=results_df, palette='viridis')\n",
    "    plt.ylabel('Accuracy Score')\n",
    "    plt.title('Model Comparison')\n",
    "    plt.xticks(rotation=45)\n",
    "    plt.grid(True)\n",
    "    plt.show()\n",
    "else:\n",
    "    print(\"Variable 'results_df' is not defined. Please check the previous cell.\")"
   ]
  },
  {
   "cell_type": "markdown",
   "id": "baeefc8e",
   "metadata": {},
   "source": [
    "### Best Model Summary\n",
    "The best performing model is highlighted below, along with its accuracy score."
   ]
  },
  {
   "cell_type": "code",
   "execution_count": 65,
   "id": "1aa6f4c7",
   "metadata": {},
   "outputs": [
    {
     "data": {
      "text/markdown": [
       "**Best Model:** RandomForest<br>**Accuracy:** 0.4800"
      ],
      "text/plain": [
       "<IPython.core.display.Markdown object>"
      ]
     },
     "metadata": {},
     "output_type": "display_data"
    }
   ],
   "source": [
    "# Display the best model and its accuracy\n",
    "from IPython.display import display, Markdown\n",
    "display(Markdown(f\"**Best Model:** {best_model_name}<br>**Accuracy:** {results_df.iloc[0]['Accuracy']:.4f}\"))"
   ]
  },
  {
   "cell_type": "code",
   "execution_count": 67,
   "id": "a4e32a0b",
   "metadata": {},
   "outputs": [
    {
     "name": "stdout",
     "output_type": "stream",
     "text": [
      "✅ Best model: RandomForest with accuracy 0.4800\n",
      "✅ Saved best model as best_model.pkl\n"
     ]
    }
   ],
   "source": [
    "# Save the Best Model\n",
    "best_model_name = results_df.iloc[0]['Model']\n",
    "best_model = models[best_model_name]\n",
    "print(f\"✅ Best model: {best_model_name} with accuracy {results_df.iloc[0]['Accuracy']:.4f}\")\n",
    "joblib.dump(best_model, 'best_model.pkl')\n",
    "print('✅ Saved best model as best_model.pkl')"
   ]
  },
  {
   "cell_type": "markdown",
   "id": "a668f0ce",
   "metadata": {},
   "source": [
    "## Streamlit App for Prediction"
   ]
  },
  {
   "cell_type": "code",
   "execution_count": 68,
   "id": "6819c69e",
   "metadata": {},
   "outputs": [
    {
     "name": "stdout",
     "output_type": "stream",
     "text": [
      "Writing app.py\n"
     ]
    }
   ],
   "source": [
    "%%writefile app.py\n",
    "import streamlit as st\n",
    "import pandas as pd\n",
    "import joblib\n",
    "\n",
    "# Load the trained model\n",
    "model = joblib.load('best_model.pkl')\n",
    "\n",
    "st.set_page_config(page_title='Employee Salary Classification', page_icon='💼', layout='centered')\n",
    "\n",
    "st.title('💼 Employee Salary Classification App')\n",
    "st.markdown('Predict whether an employee earns >50K or ≤50K based on input features.')\n",
    "\n",
    "# Sidebar inputs (these must match your training feature columns)\n",
    "st.sidebar.header('Input Employee Details')\n",
    "\n",
    "# ✨ Replace these fields with your dataset's actual input columns\n",
    "age = st.sidebar.slider('Age', 18, 65, 30)\n",
    "education = st.sidebar.selectbox('Education Level', [\n",
    "    'Bachelors', 'Masters', 'PhD', 'HS-grad', 'Assoc', 'Some-college'\n",
    "])\n",
    "occupation = st.sidebar.selectbox('Job Role', [\n",
    "    'Tech-support', 'Craft-repair', 'Other-service', 'Sales',\n",
    "    'Exec-managerial', 'Prof-specialty', 'Handlers-cleaners', 'Machine-op-inspct',\n",
    "    'Adm-clerical', 'Farming-fishing', 'Transport-moving', 'Priv-house-serv',\n",
    "    'Protective-serv', 'Armed-Forces'\n",
    "])\n",
    "hours_per_week = st.sidebar.slider('Hours per week', 1, 80, 40)\n",
    "experience = st.sidebar.slider('Years of Experience', 0, 40, 5)\n",
    "\n",
    "# Build input DataFrame (⚠️ must match preprocessing of your training data)\n",
    "input_df = pd.DataFrame({\n",
    "    'age': [age],\n",
    "    'education': [education],\n",
    "    'occupation': [occupation],\n",
    "    'hours-per-week': [hours_per_week],\n",
    "    'experience': [experience]\n",
    "})\n",
    "\n",
    "st.write('### 🔎 Input Data')\n",
    "st.write(input_df)\n",
    "\n",
    "# Predict button\n",
    "if st.button('Predict Salary Class'):\n",
    "    prediction = model.predict(input_df)\n",
    "    st.success(f'✅ Prediction: {prediction[0]}')\n",
    "\n",
    "# Batch prediction\n",
    "st.markdown('---')\n",
    "st.markdown('#### 📂 Batch Prediction')\n",
    "uploaded_file = st.file_uploader('Upload a CSV file for batch prediction', type='csv')\n",
    "\n",
    "if uploaded_file is not None:\n",
    "    batch_data = pd.read_csv(uploaded_file)\n",
    "    st.write('Uploaded data preview:', batch_data.head())\n",
    "    batch_preds = model.predict(batch_data)\n",
    "    batch_data['PredictedClass'] = batch_preds\n",
    "    st.write('✅ Predictions:')\n",
    "    st.write(batch_data.head())\n",
    "    csv = batch_data.to_csv(index=False).encode('utf-8')\n",
    "    st.download_button('Download Predictions CSV', csv, file_name='predicted_classes.csv', mime='text/csv')"
   ]
  },
  {
   "cell_type": "code",
   "execution_count": null,
   "id": "5ddcd70a",
   "metadata": {},
   "outputs": [],
   "source": [
    "# Run Streamlit App\n",
    "!streamlit run app.py"
   ]
  }
 ],
 "metadata": {
  "kernelspec": {
   "display_name": "Python 3",
   "language": "python",
   "name": "python3"
  },
  "language_info": {
   "codemirror_mode": {
    "name": "ipython",
    "version": 3
   },
   "file_extension": ".py",
   "mimetype": "text/x-python",
   "name": "python",
   "nbconvert_exporter": "python",
   "pygments_lexer": "ipython3",
   "version": "3.13.2"
  }
 },
 "nbformat": 4,
 "nbformat_minor": 5
}
